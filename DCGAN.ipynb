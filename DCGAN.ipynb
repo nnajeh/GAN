{
  "nbformat": 4,
  "nbformat_minor": 5,
  "metadata": {
    "kernelspec": {
      "display_name": "Python 3",
      "language": "python",
      "name": "python3"
    },
    "language_info": {
      "codemirror_mode": {
        "name": "ipython",
        "version": 3
      },
      "file_extension": ".py",
      "mimetype": "text/x-python",
      "name": "python",
      "nbconvert_exporter": "python",
      "pygments_lexer": "ipython3",
      "version": "3.6.6"
    },
    "colab": {
      "name": "Anomaly-detection-DCGAN.ipynb",
      "provenance": [],
      "include_colab_link": true
    }
  },
  "cells": [
    {
      "cell_type": "markdown",
      "metadata": {
        "id": "view-in-github",
        "colab_type": "text"
      },
      "source": [
        "<a href=\"https://colab.research.google.com/github/nnajeh/GAN/blob/main/DCGAN.ipynb\" target=\"_parent\"><img src=\"https://colab.research.google.com/assets/colab-badge.svg\" alt=\"Open In Colab\"/></a>"
      ]
    },
    {
      "cell_type": "code",
      "metadata": {
        "id": "found-shelf",
        "outputId": "9d205ef1-d5dc-481a-aabb-1e196655c14b"
      },
      "source": [
        "from __future__ import print_function\n",
        "#%matplotlib inline\n",
        "import argparse\n",
        "import os\n",
        "import random\n",
        "import torch\n",
        "import torch.nn as nn\n",
        "import torch.nn.parallel\n",
        "import torch.backends.cudnn as cudnn\n",
        "import torch.optim as optim\n",
        "import torch.utils.data\n",
        "import torchvision.datasets as dset\n",
        "import torchvision.transforms as transforms\n",
        "import torchvision.utils as vutils\n",
        "import numpy as np\n",
        "import matplotlib.pyplot as plt\n",
        "import matplotlib.animation as animation\n",
        "from IPython.display import HTML\n",
        "# Set random seed for reproducibility\n",
        "manualSeed = 999\n",
        "#manualSeed = random.randint(1, 10000) # use if you want new results\n",
        "print(\"Random Seed: \", manualSeed)\n",
        "random.seed(manualSeed)\n",
        "torch.manual_seed(manualSeed)"
      ],
      "id": "found-shelf",
      "execution_count": null,
      "outputs": [
        {
          "output_type": "stream",
          "text": [
            "Random Seed:  999\n"
          ],
          "name": "stdout"
        },
        {
          "output_type": "execute_result",
          "data": {
            "text/plain": [
              "<torch._C.Generator at 0x2318890bdc8>"
            ]
          },
          "metadata": {
            "tags": []
          },
          "execution_count": 1
        }
      ]
    },
    {
      "cell_type": "code",
      "metadata": {
        "id": "satisfactory-baking"
      },
      "source": [
        "# Number of workers for dataloader\n",
        "workers = 2\n",
        "\n",
        "# Batch size during training\n",
        "batch_size = 8\n",
        "\n",
        "# Spatial size of training images. All images will be resized to this\n",
        "#   size using a transformer.\n",
        "image_size = 64\n",
        "\n",
        "# Number of channels in the training images. For color images this is 3\n",
        "nc = 3\n",
        "\n",
        "# Size of z latent vector (i.e. size of generator input)\n",
        "nz = 100\n",
        "\n",
        "# Size of feature maps in generator\n",
        "ngf = 64\n",
        "\n",
        "# Size of feature maps in discriminator\n",
        "ndf = 64\n",
        "\n",
        "# Number of training epochs\n",
        "num_epochs = 35\n",
        "\n",
        "# Learning rate for optimizers\n",
        "#change learning rate from lr = 0.0002\n",
        "#lr_G = 0.0002\n",
        "#lr_D = 0.0002\n",
        "#lr = 0.0002\n",
        "\n",
        "# Beta1 hyperparam for Adam optimizers\n",
        "beta1 = 0.5\n",
        "\n",
        "# Number of GPUs available. Use 0 for CPU mode.\n",
        "ngpu = 1"
      ],
      "id": "satisfactory-baking",
      "execution_count": null,
      "outputs": []
    },
    {
      "cell_type": "code",
      "metadata": {
        "id": "going-brief"
      },
      "source": [
        "train = 'C:/Users/nafti/OneDrive/Bureau/Conda/data/Normal/'"
      ],
      "id": "going-brief",
      "execution_count": null,
      "outputs": []
    },
    {
      "cell_type": "code",
      "metadata": {
        "id": "laughing-headline"
      },
      "source": [
        "# We can use an image folder dataset the way we have it setup.\n",
        "# Create the dataset\n",
        "dataset_train = dset.ImageFolder(root=train,\n",
        "                               transform=transforms.Compose([\n",
        "                               transforms.Resize(image_size),\n",
        "                               transforms.CenterCrop(image_size),\n",
        "                               transforms.ToTensor(),\n",
        "                               transforms.Normalize((0.5), (0.5)),\n",
        "                           ]))"
      ],
      "id": "laughing-headline",
      "execution_count": null,
      "outputs": []
    },
    {
      "cell_type": "code",
      "metadata": {
        "id": "jewish-trade"
      },
      "source": [
        "# Create the dataloader\n",
        "dataloader_train = torch.utils.data.DataLoader(dataset_train, batch_size=batch_size,\n",
        "                                         shuffle=True, num_workers=workers)"
      ],
      "id": "jewish-trade",
      "execution_count": null,
      "outputs": []
    },
    {
      "cell_type": "code",
      "metadata": {
        "id": "intense-passenger"
      },
      "source": [
        "# Decide which device we want to run on\n",
        "device = torch.device(\"cuda:0\" if (torch.cuda.is_available() and ngpu > 0) else \"cpu\")"
      ],
      "id": "intense-passenger",
      "execution_count": null,
      "outputs": []
    },
    {
      "cell_type": "code",
      "metadata": {
        "id": "accepted-luxury",
        "outputId": "1beefc04-8574-4dc6-a439-78d72b34680b"
      },
      "source": [
        "#Visualize train data\n",
        "\n",
        "# Plot some training images\n",
        "real_batch = next(iter(dataloader_train))\n",
        "plt.figure(figsize=(8,8))\n",
        "plt.axis(\"off\")\n",
        "plt.title(\"Training Images\")\n",
        "plt.imshow(np.transpose(vutils.make_grid(real_batch[0].to(device)[:64], padding=2, normalize=True).cpu(),(1,2,0)))\n"
      ],
      "id": "accepted-luxury",
      "execution_count": null,
      "outputs": [
        {
          "output_type": "execute_result",
          "data": {
            "text/plain": [
              "<matplotlib.image.AxesImage at 0x2318fdb6ef0>"
            ]
          },
          "metadata": {
            "tags": []
          },
          "execution_count": 7
        },
        {
          "output_type": "display_data",
          "data": {
            "image/png": "[encoded data removed]",
            "text/plain": [
              "<Figure size 576x576 with 1 Axes>"
            ]
          },
          "metadata": {
            "tags": [],
            "needs_background": "light"
          }
        }
      ]
    },
    {
      "cell_type": "markdown",
      "metadata": {
        "id": "creative-capacity"
      },
      "source": [
        "# Weight initialization"
      ],
      "id": "creative-capacity"
    },
    {
      "cell_type": "code",
      "metadata": {
        "id": "identified-audience"
      },
      "source": [
        "# Custom weights initialization called on netG and netD\n",
        "def weights_init(m):\n",
        "    classname = m.__class__.__name__\n",
        "    if classname.find('Conv') != -1:\n",
        "        nn.init.normal_(m.weight.data, 0.0, 0.02)\n",
        "    elif classname.find('BatchNorm') != -1:\n",
        "        nn.init.normal_(m.weight.data, 1.0, 0.02)\n",
        "        nn.init.constant_(m.bias.data, 0)"
      ],
      "id": "identified-audience",
      "execution_count": null,
      "outputs": []
    },
    {
      "cell_type": "markdown",
      "metadata": {
        "id": "lightweight-mobility"
      },
      "source": [
        "# Model"
      ],
      "id": "lightweight-mobility"
    },
    {
      "cell_type": "code",
      "metadata": {
        "id": "suited-michael",
        "outputId": "c662b38a-6961-4e25-a1b9-41c6ab434243"
      },
      "source": [
        "# Generator Code\n",
        "\n",
        "class Generator(nn.Module):\n",
        "    def __init__(self, ngpu):\n",
        "        super(Generator, self).__init__()\n",
        "        self.ngpu = ngpu\n",
        "        self.main = nn.Sequential(\n",
        "            \n",
        "            # input is Z, going into a convolution\n",
        "            nn.ConvTranspose2d( nz, ngf * 8, 4, 1, 0, bias=False),\n",
        "            nn.BatchNorm2d(ngf * 8),\n",
        "            nn.ReLU(True),\n",
        "            \n",
        "            # state size. (ngf*8) x 4 x 4\n",
        "            nn.ConvTranspose2d(ngf * 8, ngf * 4, 4, 2, 1, bias=False),\n",
        "            nn.BatchNorm2d(ngf * 4),\n",
        "            nn.ReLU(True),\n",
        "            \n",
        "            # state size. (ngf*4) x 8 x 8\n",
        "            nn.ConvTranspose2d( ngf * 4, ngf * 2, 4, 2, 1, bias=False),\n",
        "            nn.BatchNorm2d(ngf * 2),\n",
        "            nn.ReLU(True),\n",
        "            # state size. (ngf*2) x 16 x 16\n",
        "            nn.ConvTranspose2d( ngf * 2, ngf, 4, 2, 1, bias=False),\n",
        "            nn.BatchNorm2d(ngf),\n",
        "            nn.ReLU(True),\n",
        "            # state size. (ngf) x 32 x 32\n",
        "            nn.ConvTranspose2d( ngf, nc, 4, 2, 1, bias=False),\n",
        "            nn.Tanh()\n",
        "            # state size. (nc) x 64 x 64\n",
        "        )\n",
        "\n",
        "    def forward(self, input):\n",
        "        return self.main(input)\n",
        "\n",
        "    \n",
        "# Create the generator\n",
        "netG = Generator(ngpu).to(device)\n",
        "\n",
        "\n",
        "# Handle multi-gpu if desired\n",
        "if (device.type == 'cuda') and (ngpu > 1):\n",
        "    netG = nn.DataParallel(netG, list(range(ngpu)))\n",
        "    \n",
        "# Apply the weights_init function to randomly initialize all weights\n",
        "#  to mean=0, stdev=0.2.\n",
        "netG.apply(weights_init)\n",
        "\n",
        "# Print the model\n",
        "print(netG)"
      ],
      "id": "suited-michael",
      "execution_count": null,
      "outputs": [
        {
          "output_type": "stream",
          "text": [
            "Generator(\n",
            "  (main): Sequential(\n",
            "    (0): ConvTranspose2d(100, 512, kernel_size=(4, 4), stride=(1, 1), bias=False)\n",
            "    (1): BatchNorm2d(512, eps=1e-05, momentum=0.1, affine=True, track_running_stats=True)\n",
            "    (2): ReLU(inplace=True)\n",
            "    (3): ConvTranspose2d(512, 256, kernel_size=(4, 4), stride=(2, 2), padding=(1, 1), bias=False)\n",
            "    (4): BatchNorm2d(256, eps=1e-05, momentum=0.1, affine=True, track_running_stats=True)\n",
            "    (5): ReLU(inplace=True)\n",
            "    (6): ConvTranspose2d(256, 128, kernel_size=(4, 4), stride=(2, 2), padding=(1, 1), bias=False)\n",
            "    (7): BatchNorm2d(128, eps=1e-05, momentum=0.1, affine=True, track_running_stats=True)\n",
            "    (8): ReLU(inplace=True)\n",
            "    (9): ConvTranspose2d(128, 64, kernel_size=(4, 4), stride=(2, 2), padding=(1, 1), bias=False)\n",
            "    (10): BatchNorm2d(64, eps=1e-05, momentum=0.1, affine=True, track_running_stats=True)\n",
            "    (11): ReLU(inplace=True)\n",
            "    (12): ConvTranspose2d(64, 3, kernel_size=(4, 4), stride=(2, 2), padding=(1, 1), bias=False)\n",
            "    (13): Tanh()\n",
            "  )\n",
            ")\n"
          ],
          "name": "stdout"
        }
      ]
    },
    {
      "cell_type": "code",
      "metadata": {
        "id": "further-warning",
        "outputId": "c4dcf8e6-61cc-40c1-e52f-7150a2ac6e9c"
      },
      "source": [
        "#Discriminator Code\n",
        "\n",
        "class Discriminator(nn.Module):\n",
        "    def __init__(self, ngpu):\n",
        "        super(Discriminator, self).__init__()\n",
        "        self.ngpu = ngpu\n",
        "        self.main = nn.Sequential(\n",
        "            \n",
        "            # input is (nc) x 64 x 64\n",
        "            nn.Conv2d(nc, ndf, 4, 2, 1, bias=False),\n",
        "            nn.LeakyReLU(0.2, inplace=True),\n",
        "            \n",
        "            # state size. (ndf) x 32 x 32\n",
        "            nn.Conv2d(ndf, ndf * 2, 4, 2, 1, bias=False),\n",
        "            nn.BatchNorm2d(ndf * 2),\n",
        "            nn.LeakyReLU(0.2, inplace=True),\n",
        "            \n",
        "            # state size. (ndf*2) x 16 x 16\n",
        "            nn.Conv2d(ndf * 2, ndf * 4, 4, 2, 1, bias=False),\n",
        "            nn.BatchNorm2d(ndf * 4),\n",
        "            nn.LeakyReLU(0.2, inplace=True),\n",
        "            \n",
        "            # state size. (ndf*4) x 8 x 8\n",
        "            nn.Conv2d(ndf * 4, ndf * 8, 4, 2, 1, bias=False),\n",
        "            nn.BatchNorm2d(ndf * 8),\n",
        "            nn.LeakyReLU(0.2, inplace=True),\n",
        "            \n",
        "            # state size. (ndf*8) x 4 x 4\n",
        "            nn.Conv2d(ndf * 8, 1, 4, 1, 0, bias=False),\n",
        "            nn.Sigmoid()\n",
        "        )\n",
        "\n",
        "    def forward(self, input):\n",
        "        return self.main(input)\n",
        "\n",
        "# Create the Discriminator\n",
        "netD = Discriminator(ngpu).to(device)\n",
        "\n",
        "# Handle multi-gpu if desired\n",
        "if (device.type == 'cuda') and (ngpu > 1):\n",
        "    netD = nn.DataParallel(netD, list(range(ngpu)))\n",
        "    \n",
        "# Apply the weights_init function to randomly initialize all weights\n",
        "#  to mean=0, stdev=0.2.\n",
        "netD.apply(weights_init)\n",
        "\n",
        "# Print the model\n",
        "print(netD)"
      ],
      "id": "further-warning",
      "execution_count": null,
      "outputs": [
        {
          "output_type": "stream",
          "text": [
            "Discriminator(\n",
            "  (main): Sequential(\n",
            "    (0): Conv2d(3, 64, kernel_size=(4, 4), stride=(2, 2), padding=(1, 1), bias=False)\n",
            "    (1): LeakyReLU(negative_slope=0.2, inplace=True)\n",
            "    (2): Conv2d(64, 128, kernel_size=(4, 4), stride=(2, 2), padding=(1, 1), bias=False)\n",
            "    (3): BatchNorm2d(128, eps=1e-05, momentum=0.1, affine=True, track_running_stats=True)\n",
            "    (4): LeakyReLU(negative_slope=0.2, inplace=True)\n",
            "    (5): Conv2d(128, 256, kernel_size=(4, 4), stride=(2, 2), padding=(1, 1), bias=False)\n",
            "    (6): BatchNorm2d(256, eps=1e-05, momentum=0.1, affine=True, track_running_stats=True)\n",
            "    (7): LeakyReLU(negative_slope=0.2, inplace=True)\n",
            "    (8): Conv2d(256, 512, kernel_size=(4, 4), stride=(2, 2), padding=(1, 1), bias=False)\n",
            "    (9): BatchNorm2d(512, eps=1e-05, momentum=0.1, affine=True, track_running_stats=True)\n",
            "    (10): LeakyReLU(negative_slope=0.2, inplace=True)\n",
            "    (11): Conv2d(512, 1, kernel_size=(4, 4), stride=(1, 1), bias=False)\n",
            "    (12): Sigmoid()\n",
            "  )\n",
            ")\n"
          ],
          "name": "stdout"
        }
      ]
    },
    {
      "cell_type": "code",
      "metadata": {
        "id": "cb43b9ba"
      },
      "source": [
        ""
      ],
      "id": "cb43b9ba",
      "execution_count": null,
      "outputs": []
    },
    {
      "cell_type": "code",
      "metadata": {
        "id": "seeing-sheffield"
      },
      "source": [
        "# Establish convention for real and fake labels during training\n",
        "real_label = 1\n",
        "fake_label = 0\n",
        "\n",
        "# Setup Adam optimizers for both G and D\n",
        "optimizerD = optim.Adam(netD.parameters(), lr=0.002, betas=(beta1, 0.999))\n",
        "optimizerG = optim.Adam(netG.parameters(), lr=0.002, betas=(beta1, 0.999))"
      ],
      "id": "seeing-sheffield",
      "execution_count": null,
      "outputs": []
    },
    {
      "cell_type": "code",
      "metadata": {
        "id": "public-accident"
      },
      "source": [
        "# Initialize BCELoss function\n",
        "criterion = nn.BCELoss()\n",
        "\n",
        "\n",
        "# Training Loop\n",
        "\n",
        "# Lists to keep track of progress\n",
        "img_list = []\n",
        "G_losses = []\n",
        "D_losses = []\n",
        "\n",
        "iters = 0\n",
        "num_epochs = 35"
      ],
      "id": "public-accident",
      "execution_count": null,
      "outputs": []
    },
    {
      "cell_type": "code",
      "metadata": {
        "id": "addressed-action"
      },
      "source": [
        "fixed_noise = torch.randn(64, nz, 1, 1, device=device)"
      ],
      "id": "addressed-action",
      "execution_count": null,
      "outputs": []
    },
    {
      "cell_type": "code",
      "metadata": {
        "id": "65ca7c76"
      },
      "source": [
        "from torchvision.utils import save_image"
      ],
      "id": "65ca7c76",
      "execution_count": null,
      "outputs": []
    },
    {
      "cell_type": "code",
      "metadata": {
        "id": "a1ee3763"
      },
      "source": [
        "#Display generated data \n",
        "def image_check(gen_fake):\n",
        "    img = gen_fake.data.numpy()\n",
        "    for i in range(2):\n",
        "        plt.imshow(img[i][0],cmap='gray')\n",
        "        plt.show()"
      ],
      "id": "a1ee3763",
      "execution_count": null,
      "outputs": []
    },
    {
      "cell_type": "code",
      "metadata": {
        "id": "c8702c7c"
      },
      "source": [
        ""
      ],
      "id": "c8702c7c",
      "execution_count": null,
      "outputs": []
    },
    {
      "cell_type": "code",
      "metadata": {
        "id": "executive-genome",
        "outputId": "b415722d-d2be-428f-98b2-a37722246542"
      },
      "source": [
        "print(\"Starting Training Loop...\")\n",
        "\n",
        "# For each epoch\n",
        "for epoch in range(num_epochs):\n",
        "    # For each batch in the dataloader\n",
        "    for i, data in enumerate(dataloader_train, 0):\n",
        "\n",
        "        ############################\n",
        "        # (1) Update D network: maximize log(D(x)) + log(1 - D(G(z)))\n",
        "        ###########################\n",
        "        ## Train with all-real batch\n",
        "        netD.zero_grad()\n",
        "        \n",
        "        # Format batch\n",
        "        real_cpu = data[0].to(device)\n",
        "        b_size = real_cpu.size(0)\n",
        "        \n",
        "        label = torch.full((b_size,), real_label, dtype=torch.float, device=device)\n",
        "        \n",
        "        # Forward pass real batch through D\n",
        "        output = netD(real_cpu).view(-1)\n",
        "        \n",
        "        # Calculate loss on all-real batch\n",
        "        errD_real = criterion(output, label)\n",
        "        \n",
        "        # Calculate gradients for D in backward pass\n",
        "        errD_real.backward()\n",
        "        D_x = output.mean().item()\n",
        "\n",
        "        \n",
        "        ## Train with all-fake batch\n",
        "        # Generate batch of latent vectors\n",
        "        noise = torch.randn(b_size, nz, 1, 1, device=device)\n",
        "        \n",
        "        # Generate fake image batch with G\n",
        "        fake = netG(noise)\n",
        "        label.fill_(fake_label)\n",
        "        \n",
        "        # Classify all fake batch with D\n",
        "        output = netD(fake.detach()).view(-1)\n",
        "        \n",
        "        # Calculate D's loss on the all-fake batch\n",
        "        errD_fake = criterion(output, label)\n",
        "        \n",
        "        # Calculate the gradients for this batch, accumulated (summed) with previous gradients\n",
        "        errD_fake.backward()\n",
        "        D_G_z1 = output.mean().item()\n",
        "       \n",
        "        # Compute error of D as sum over the fake and the real batches\n",
        "        errD = errD_real + errD_fake\n",
        "        # Update D\n",
        "        optimizerD.step()\n",
        "\n",
        "        ############################\n",
        "        # (2) Update G network: maximize log(D(G(z)))\n",
        "        ###########################\n",
        "        netG.zero_grad()\n",
        "        label.fill_(real_label)  # fake labels are real for generator cost\n",
        "        # Since we just updated D, perform another forward pass of all-fake batch through D\n",
        "        output = netD(fake).view(-1)\n",
        "        # Calculate G's loss based on this output\n",
        "        errG = criterion(output, label)\n",
        "        # Calculate gradients for G\n",
        "        errG.backward()\n",
        "        D_G_z2 = output.mean().item()\n",
        "        # Update G\n",
        "        optimizerG.step()\n",
        "        \n",
        "        \n",
        "        # Output training stats and Save trained model\n",
        "        if i % 100 == 0:\n",
        "            print('[%d/%d]\\tLoss_D:%.4f\\tLoss_G:%.4f\\tD(x): %.4f\\tD(G(z)): %.4f / %.4f'\n",
        "                  % (epoch, num_epochs, errD.item(), errG.item(), D_x, D_G_z1, D_G_z2, ))\n",
        "            \n",
        "            torch.save(netG.state_dict(),'./saved_model/generator.pth')\n",
        "            torch.save(netD.state_dict(),'./saved_model/discriminator.pth')\n",
        "            \n",
        "\n",
        "        # Save Losses for plotting later\n",
        "        G_losses.append(errG.item())\n",
        "        D_losses.append(errD.item())\n",
        " \n",
        "        \n",
        "        # Check how the generator is doing by saving G's output on fixed_noise\n",
        "        if (iters % 500 == 0) or ((epoch == num_epochs-1) and (i == len(dataloader_train)-1)):\n",
        "            with torch.no_grad():\n",
        "                fake = netG(fixed_noise).detach().cpu()\n",
        "            img_list.append(vutils.make_grid(fake, padding=2, normalize=True))\n",
        "            \n",
        "        #Save Fake and real images in folders    \n",
        "        if i % 100 == 0:\n",
        "            vutils.save_image(real_cpu,'%s/real_samples.png' % './real_images_train', normalize=True)\n",
        "            fake = netG(fixed_noise)\n",
        "            vutils.save_image(fake.detach(), '%s/fake_samples_epoch_%03d.png' %('./fake_images_train', epoch), normalize=True)\n",
        "\n",
        "        iters += 1\n",
        "    \n",
        "    #image_check(fake.cpu())\n",
        "    \n",
        "   # torch.save(netG.state_dict(), './Anomaly_detection/G_epoch{}.pt'.format(epoch))\n",
        "   # torch.save(netD.state_dict(), './Anomaly_detection/D_epoch{}.pt'.format(epoch))\n"
      ],
      "id": "executive-genome",
      "execution_count": null,
      "outputs": [
        {
          "output_type": "stream",
          "text": [
            "Starting Training Loop...\n",
            "[0/35]\tLoss_D:1.4074\tLoss_G:54.2294\tD(x): 0.7178\tD(G(z)): 0.6270 / 0.0000\n",
            "[1/35]\tLoss_D:2.4520\tLoss_G:2.4115\tD(x): 0.2953\tD(G(z)): 0.2141 / 0.1822\n",
            "[2/35]\tLoss_D:1.0873\tLoss_G:7.6308\tD(x): 0.9808\tD(G(z)): 0.2907 / 0.1863\n",
            "[3/35]\tLoss_D:3.9483\tLoss_G:2.0248\tD(x): 0.4380\tD(G(z)): 0.5475 / 0.3752\n",
            "[4/35]\tLoss_D:1.6765\tLoss_G:5.3051\tD(x): 0.8456\tD(G(z)): 0.6220 / 0.0069\n",
            "[5/35]\tLoss_D:0.6047\tLoss_G:5.7563\tD(x): 0.9509\tD(G(z)): 0.3601 / 0.0058\n",
            "[6/35]\tLoss_D:1.6495\tLoss_G:4.9494\tD(x): 0.8573\tD(G(z)): 0.4612 / 0.0288\n",
            "[7/35]\tLoss_D:1.3594\tLoss_G:7.5304\tD(x): 0.7418\tD(G(z)): 0.5384 / 0.0019\n",
            "[8/35]\tLoss_D:1.2971\tLoss_G:5.5100\tD(x): 0.7901\tD(G(z)): 0.3325 / 0.0170\n",
            "[9/35]\tLoss_D:2.3274\tLoss_G:4.3969\tD(x): 0.9173\tD(G(z)): 0.7447 / 0.0272\n",
            "[10/35]\tLoss_D:0.6699\tLoss_G:4.2609\tD(x): 0.9383\tD(G(z)): 0.3868 / 0.0253\n",
            "[11/35]\tLoss_D:1.5917\tLoss_G:5.2541\tD(x): 0.6942\tD(G(z)): 0.5785 / 0.0138\n",
            "[12/35]\tLoss_D:0.7716\tLoss_G:2.8137\tD(x): 0.9587\tD(G(z)): 0.4697 / 0.0881\n",
            "[13/35]\tLoss_D:1.6045\tLoss_G:2.7571\tD(x): 0.7010\tD(G(z)): 0.5002 / 0.1103\n",
            "[14/35]\tLoss_D:1.4523\tLoss_G:4.3417\tD(x): 0.8321\tD(G(z)): 0.6195 / 0.0179\n",
            "[15/35]\tLoss_D:1.2086\tLoss_G:2.6572\tD(x): 0.4114\tD(G(z)): 0.0754 / 0.0889\n",
            "[16/35]\tLoss_D:1.8325\tLoss_G:6.6901\tD(x): 0.9466\tD(G(z)): 0.6367 / 0.0035\n",
            "[17/35]\tLoss_D:1.0062\tLoss_G:3.0509\tD(x): 0.7059\tD(G(z)): 0.3498 / 0.0746\n",
            "[18/35]\tLoss_D:0.8628\tLoss_G:2.3514\tD(x): 0.6282\tD(G(z)): 0.2330 / 0.1696\n",
            "[19/35]\tLoss_D:1.1044\tLoss_G:3.2565\tD(x): 0.9626\tD(G(z)): 0.5383 / 0.0495\n",
            "[20/35]\tLoss_D:0.9343\tLoss_G:2.9800\tD(x): 0.7463\tD(G(z)): 0.2947 / 0.0850\n",
            "[21/35]\tLoss_D:0.8258\tLoss_G:2.6941\tD(x): 0.7684\tD(G(z)): 0.3726 / 0.0759\n",
            "[22/35]\tLoss_D:0.6802\tLoss_G:1.5867\tD(x): 0.6604\tD(G(z)): 0.1447 / 0.2547\n",
            "[23/35]\tLoss_D:1.1594\tLoss_G:3.5264\tD(x): 0.9557\tD(G(z)): 0.6353 / 0.0328\n",
            "[24/35]\tLoss_D:0.7582\tLoss_G:3.7737\tD(x): 0.6541\tD(G(z)): 0.1723 / 0.0536\n",
            "[25/35]\tLoss_D:0.4070\tLoss_G:4.5588\tD(x): 0.7950\tD(G(z)): 0.0842 / 0.0167\n",
            "[26/35]\tLoss_D:0.8535\tLoss_G:4.6364\tD(x): 0.8088\tD(G(z)): 0.3515 / 0.0197\n",
            "[27/35]\tLoss_D:0.3273\tLoss_G:3.5358\tD(x): 0.9641\tD(G(z)): 0.2107 / 0.0383\n",
            "[28/35]\tLoss_D:0.6796\tLoss_G:2.9980\tD(x): 0.7211\tD(G(z)): 0.1740 / 0.0624\n",
            "[29/35]\tLoss_D:0.9315\tLoss_G:2.6082\tD(x): 0.6908\tD(G(z)): 0.3130 / 0.1160\n",
            "[30/35]\tLoss_D:0.6406\tLoss_G:2.1799\tD(x): 0.6547\tD(G(z)): 0.1344 / 0.1318\n",
            "[31/35]\tLoss_D:0.7086\tLoss_G:3.2897\tD(x): 0.7152\tD(G(z)): 0.2417 / 0.0585\n",
            "[32/35]\tLoss_D:0.3361\tLoss_G:4.0677\tD(x): 0.8717\tD(G(z)): 0.1495 / 0.0317\n",
            "[33/35]\tLoss_D:2.4271\tLoss_G:3.8162\tD(x): 0.2453\tD(G(z)): 0.0016 / 0.0852\n",
            "[34/35]\tLoss_D:0.8705\tLoss_G:3.6599\tD(x): 0.7986\tD(G(z)): 0.4218 / 0.0379\n"
          ],
          "name": "stdout"
        }
      ]
    },
    {
      "cell_type": "markdown",
      "metadata": {
        "id": "floating-flashing"
      },
      "source": [
        "# Loss Visualization"
      ],
      "id": "floating-flashing"
    },
    {
      "cell_type": "code",
      "metadata": {
        "id": "stylish-january",
        "outputId": "f548a77f-ef85-40b5-9397-80f87fc3b400"
      },
      "source": [
        "#Results: Finally, lets check out how we did.\n",
        "# Below is a plot of D & G’s losses versus training iterations.\n",
        "\n",
        "plt.figure(figsize=(10,5))\n",
        "plt.title(\"Generator and Discriminator Loss During Training\")\n",
        "plt.plot(G_losses, label=\"G\")\n",
        "plt.plot(D_losses,label=\"D\")\n",
        "plt.xlabel(\"iterations\")\n",
        "plt.ylabel(\"Loss\")\n",
        "plt.legend()\n",
        "plt.savefig('loss.png')\n",
        "plt.show()"
      ],
      "id": "stylish-january",
      "execution_count": null,
      "outputs": [
        {
          "output_type": "display_data",
          "data": {
            "image/png": "[encoded data removed]",
            "text/plain": [
              "<Figure size 720x360 with 1 Axes>"
            ]
          },
          "metadata": {
            "tags": [],
            "needs_background": "light"
          }
        }
      ]
    },
    {
      "cell_type": "code",
      "metadata": {
        "id": "ab102232",
        "outputId": "95822e2d-6535-40ab-cc20-cb956864eedf"
      },
      "source": [
        "#Generator and discriminator loss over time\n",
        "import seaborn as sns\n",
        "\n",
        "plt.style.use('ggplot')\n",
        "plt.figure(figsize=(10, 5))\n",
        "sns.distplot(G_losses, hist=True, label='G')\n",
        "sns.distplot(D_losses, hist=True, label='D')\n",
        "plt.xlabel(\"Loss\")\n",
        "plt.ylabel(\"iterations\")\n",
        "plt.legend()"
      ],
      "id": "ab102232",
      "execution_count": null,
      "outputs": [
        {
          "output_type": "stream",
          "text": [
            "C:\\Users\\nafti\\anaconda3\\envs\\st\\lib\\site-packages\\seaborn\\distributions.py:2557: FutureWarning: `distplot` is a deprecated function and will be removed in a future version. Please adapt your code to use either `displot` (a figure-level function with similar flexibility) or `histplot` (an axes-level function for histograms).\n",
            "  warnings.warn(msg, FutureWarning)\n",
            "C:\\Users\\nafti\\anaconda3\\envs\\st\\lib\\site-packages\\seaborn\\distributions.py:2557: FutureWarning: `distplot` is a deprecated function and will be removed in a future version. Please adapt your code to use either `displot` (a figure-level function with similar flexibility) or `histplot` (an axes-level function for histograms).\n",
            "  warnings.warn(msg, FutureWarning)\n"
          ],
          "name": "stderr"
        },
        {
          "output_type": "execute_result",
          "data": {
            "text/plain": [
              "<matplotlib.legend.Legend at 0x232639c6ba8>"
            ]
          },
          "metadata": {
            "tags": []
          },
          "execution_count": 18
        },
        {
          "output_type": "display_data",
          "data": {
            "image/png": "[encoded data removed]",
            "text/plain": [
              "<Figure size 720x360 with 1 Axes>"
            ]
          },
          "metadata": {
            "tags": []
          }
        }
      ]
    }
  ]
}